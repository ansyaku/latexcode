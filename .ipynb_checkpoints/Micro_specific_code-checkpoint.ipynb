{
 "cells": [
  {
   "cell_type": "markdown",
   "id": "dba57bc5",
   "metadata": {},
   "source": [
    "# SImbol-Simbol Khusus Mikroekonomi\n",
    "***"
   ]
  },
  {
   "cell_type": "markdown",
   "id": "7160f772",
   "metadata": {},
   "source": [
    "|Simbol|Penulisan|Makna|\n",
    "|---|---|\n",
    "|$\\prec$|2|\n",
    "|$\\succ$|2|"
   ]
  }
 ],
 "metadata": {
  "kernelspec": {
   "display_name": "R",
   "language": "R",
   "name": "ir"
  },
  "language_info": {
   "codemirror_mode": "r",
   "file_extension": ".r",
   "mimetype": "text/x-r-source",
   "name": "R",
   "pygments_lexer": "r",
   "version": "4.1.0"
  }
 },
 "nbformat": 4,
 "nbformat_minor": 5
}
