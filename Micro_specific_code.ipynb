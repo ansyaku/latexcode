{
 "cells": [
  {
   "cell_type": "markdown",
   "id": "dba57bc5",
   "metadata": {},
   "source": [
    "# SImbol-Simbol Khusus Mikroekonomi\n",
    "***"
   ]
  },
  {
   "cell_type": "markdown",
   "id": "21b21dab",
   "metadata": {},
   "source": [
    "|Simbol|Penulisan|Makna|\n",
    "|:-:|:--|:--|\n",
    "|$\\prec$|\\prec|lebih disukai|\n",
    "|$\\preceq$|\\preceq|-|\n",
    "|$\\npreceq$|\\npreceq|-|\n",
    "|$\\succ$|\\succ|kurang disukai|\n",
    "|$\\nsucc$|nsucc|-|\n",
    "|$\\succeq$|\\succeq|-|\n",
    "|$\\nsucceq$|\\nsucceq|-|\n",
    "|$\\sim$|\\sim|sama sukanya|"
   ]
  },
  {
   "cell_type": "code",
   "execution_count": null,
   "id": "f82197c7",
   "metadata": {},
   "outputs": [],
   "source": []
  }
 ],
 "metadata": {
  "kernelspec": {
   "display_name": "R",
   "language": "R",
   "name": "ir"
  },
  "language_info": {
   "codemirror_mode": "r",
   "file_extension": ".r",
   "mimetype": "text/x-r-source",
   "name": "R",
   "pygments_lexer": "r",
   "version": "4.1.0"
  }
 },
 "nbformat": 4,
 "nbformat_minor": 5
}
