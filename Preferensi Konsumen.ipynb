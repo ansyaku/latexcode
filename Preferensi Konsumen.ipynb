{
 "cells": [
  {
   "cell_type": "markdown",
   "id": "fca4be1e",
   "metadata": {},
   "source": [
    "# Preferensi\n",
    "***\n",
    "\n",
    "Preferensi di dalam set X, merupakan fungsi $f$ yang memasangkan $(x,y)$ dari elemen-elemen yang berada di $X$, sehingga menghasilkan salah satu dari tiga hubungan berikut:\n",
    "1. $x \\succ z$\n",
    "2. $y \\succ z$\n",
    "3. $I$ \n",
    "\n",
    "sedemikian sehingga kedua karakteristik ini terpenuhi.\n",
    "1. Tidak ada efek urutan (order effect/orang yg selalu memilih apa yang disebutkan sebagai pilihan pertama) $f(x,y)=f(y,x)$\n",
    "2. Transitifitas <br>\n",
    "\n",
    "(Rubinstein, 2020)\n",
    "\n",
    "## Asumsi\n",
    "***\n",
    "* __Asumsi 1:__ <br>\n",
    "Preferensi adalah asimetris. Tidak ada pasangan (x,y) dari X yang $x\\succ y$ (_strictly prefered_) dan sekaligus $y\\succ x$ \n",
    "* __Asumsi 2:__ <br>\n",
    "Preferensi bersifat transitif negatif. Jika $x\\succ y$, kemudian terdapat elemen $z$, maka $z$ haruslah hanya bersifat salah satu dari tiga opsi ini :\n",
    "    * $x \\succ z$\n",
    "    * $y \\succ z$\n",
    "    * atau keduanya \n",
    "    \n",
    "Selain dua asumsi di atas, terdapat tiga aksioma :\n",
    "* __Aksioma 1: KELENGKAPAN (Completeness)__<br> - Untuk setiap pasangan $(x,y)$ di dalam X, \n",
    "* __Aksioma 2: TRANSITIF__ <br> - Apabila $x\\succ y$ kemudian $y\\succ z$, maka haruslah $x \\succ z$\n",
    "* __Aksioma 3: ACYCLICITY__ <br> - Untuk pilihan yang berhingga (finite) $n$, $x_1, x_2, x_3, ...x_{n-1}, x_n$ haruslah $x_n \\neq x_1$"
   ]
  }
 ],
 "metadata": {
  "kernelspec": {
   "display_name": "R",
   "language": "R",
   "name": "ir"
  },
  "language_info": {
   "codemirror_mode": "r",
   "file_extension": ".r",
   "mimetype": "text/x-r-source",
   "name": "R",
   "pygments_lexer": "r",
   "version": "4.1.0"
  }
 },
 "nbformat": 4,
 "nbformat_minor": 5
}
