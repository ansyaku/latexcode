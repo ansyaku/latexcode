{
 "cells": [
  {
   "cell_type": "markdown",
   "id": "fca4be1e",
   "metadata": {},
   "source": [
    "# Preferensi\n",
    "***\n",
    "\n",
    "Preferensi di dalam set X, merupakan fungsi $f$ yang memasangkan $(x,y)$ dari elemen-elemen yang berada di $X$, sehingga menghasilkan salah satu dari tiga hubungan berikut:\n",
    "1. $x \\succ z$\n",
    "2. $y \\succ z$\n",
    "3. $I$ \n",
    "\n",
    "sedemikian sehingga kedua karakteristik ini terpenuhi.\n",
    "1. Tidak ada efek urutan (order effect/orang yg selalu memilih apa yang disebutkan sebagai pilihan pertama) $f(x,y)=f(y,x)$\n",
    "2. Transitifitas <br>\n",
    "\n",
    "(Rubinstein, 2020)\n",
    "\n",
    "## Asumsi\n",
    "***\n",
    "* __Asumsi 1:__ <br>\n",
    "Preferensi adalah asimetris. Tidak ada pasangan (x,y) dari X yang $x\\succ y$ (_strictly prefered_) dan sekaligus $y\\succ x$ \n",
    "* __Asumsi 2:__ <br>\n",
    "Preferensi bersifat transitif negatif. Jika $x\\succ y$, kemudian terdapat elemen $z$, maka $z$ haruslah hanya bersifat salah satu dari tiga opsi ini :\n",
    "    * $x \\succ z$\n",
    "    * $y \\succ z$\n",
    "    * atau keduanya \n",
    "    \n",
    "Selain dua asumsi di atas, terdapat tiga aksioma :\n",
    "* __Aksioma 1: KELENGKAPAN (Completeness)__<br> - Untuk setiap pasangan $(x,y)$ di dalam X, \n",
    "* __Aksioma 2: TRANSITIF__ <br> - Apabila $x\\succ y$ kemudian $y\\succ z$, maka haruslah $x \\succ z$\n",
    "* __Aksioma 3: ACYCLICITY__ <br> - Untuk pilihan yang berhingga (finite) $n$, $x_1, x_2, x_3, ...x_{n-1}, x_n$ haruslah $x_n \\neq x_1$"
   ]
  },
  {
   "cell_type": "markdown",
   "id": "e7daede6",
   "metadata": {},
   "source": [
    "# Binary Relations\n",
    "***\n",
    "\n",
    "A binary relation between (members of) set $X$ and $Y$ is a subset of $X \\times Y$.\n",
    "or a set of pairs $(x,y)$ where each pair has $x\\in X$, and $y \\in Y$.\n",
    "\n",
    "Misalkan :<br>\n",
    "$X=\\{3,5,7,9,21\\}$ dan $Y=\\{1,2,3...,100\\}$ maka salah satu binary relations adalah :<br>\n",
    "$(3,9)\\in Kw \\subseteq X \\times Y $, dimana $Kw$ adalah relasi berupa kuadrat dari<br>\n",
    "Bisa juga ditulis dengan $3Kw9$, atau secara umum $xRy$, $R$ bisa diganti-ganti sesuai dengan relasinya. <br>\n",
    "\n",
    "\n",
    "## Contoh 1:\n",
    "Misalkan:<br>\n",
    "* $X$ adalah himpunan dari mahasiswa di suatu universitas\n",
    "* $Y$ adalah himpunan dari kota di Indonesia\n",
    "<br><br>\n",
    "maka, dapat dibuat beberapa binary relations seperti :\n",
    "* $xRy$ adalah relasi berupa \"berasal dari\".\n",
    "* $xCy$ adalah relasi berupa \"pernah mengunjungi\".\n",
    "* $xSy$ adalah relasi berupa \"pernah berdomisili\".\n",
    "<br><br>\n",
    "\n",
    "Berbicara tentang set, maka: \n",
    "* Dari relasi $xCy$ dan $xSy$ mungkin saja terjadi $C\\cap S = \\emptyset$ atau tidak ada mahasiswa yg berasal dari Y pernah berdomisili di Y\n",
    "* Dari relasi $xRy$ dan $xSy$ mungkin saja terjadi $R = S$ atau semua mahasiswa yg berasal dari Y pernah berdomisili di Y\n",
    "* Dari relasi $xRy$, $xCy$, $xSy$ mungkin juga terjadi $R = C \\cup S$ atau semua mahasiswa yg berasal dari Y pernah berdomisili atau pernah mengunjungi Y"
   ]
  },
  {
   "cell_type": "markdown",
   "id": "76765138",
   "metadata": {},
   "source": [
    "Misalkan terdapat fungsi $f:X\\rightarrow Y$ $R\\subseteq X \\times X$\n",
    "<br>\n",
    "Relasi $R$ didefinisikan sebagai\n",
    "$xRx'$ if  $f(x) = f(x')$\n"
   ]
  },
  {
   "cell_type": "markdown",
   "id": "280d493d",
   "metadata": {},
   "source": [
    "## Definisi:\n",
    "***\n",
    "Sebuah relasi biner $R$ pada set $X$ disebut:\n",
    "* reflexive if $\\forall x \\in  X:xRx$ \n",
    "* symmetric if $\\forall x, x' \\in  X\\rightarrow x'Rx$ \n",
    "* transitive if $\\forall x, x', x\"\\in X: [xRx \\& x'Rx\"] \\rightarrow  xRx\"$    "
   ]
  },
  {
   "cell_type": "markdown",
   "id": "b7971a36",
   "metadata": {},
   "source": [
    "Kita misalkan $X$ adalah himpunan orang: <br>\n",
    "* $xNy$ tetanggan\n",
    "* $xBy$ satu blok\n",
    "* $xDy$ kakak\n",
    "* $xDy$ anak perempuan\n",
    "* $xAy$ kakek buyut"
   ]
  },
  {
   "cell_type": "markdown",
   "id": "bfb1d34e",
   "metadata": {},
   "source": [
    "### Simetris\n",
    "***\n",
    "* $xNy$ tetanggan: <br>bila anda bertetanggan dengan saya maka saya bertetanggan dengan anda __(SIMETRIS)__\n",
    "* $xBy$ satu blok: <br>bila anda satu blok dengan saya maka saya satu blok dengan anda __(SIMETRIS)__\n",
    "* $xDy$ kakak: <br>bila anda kakak saya maka saya tidak bisa menjadi kakak anda\n",
    "* $xDy$ anak perempuan: <br>bila anda anak perempuan saya maka saya tidak bisa menjadi anak perempuan anda\n",
    "* $xAy$ kakek buyut: <br>bila anda kakek buyut saya maka saya tidak bisa menjadi kakek buyut anda"
   ]
  },
  {
   "cell_type": "markdown",
   "id": "0d367164",
   "metadata": {},
   "source": [
    "### Transitive\n",
    "***\n",
    "* $xNy$ __tetanggan:__ <br>bila anda bertetanggan dengan saya, saya tetanggan dengan Tn Andi maka saya tidak otomatis bertetanggan dengan Tn Andi\n",
    "* $xBy$ __satu blok:__ <br>bila anda satu blok dengan saya, dan saya satu blok dengan Tn Andi, saya saya satu blok dengan Tn Andi __(TRANSITIVE)__\n",
    "* $xDy$ __kakak:__ <br>bila anda kakak saya, anda memiliki kakak lagi (k2), maka k2 adalah kakak saya juga __(TRANSITIVE)__\n",
    "* $xDy$ __anak perempuan:__ <br>bila anda adalah anak perempuan saya dan anda memiliki anak perempuan lagi, maka anak perempuan anda bukanlah anak perempuan saya\n",
    "* $xAy$ __kakek buyut:__ <br>bila anda kakek buyut saya (k1), dan anda memiliki kakek buyut lagi(k2) maka k2 adalah kakek buyut saya juga"
   ]
  }
 ],
 "metadata": {
  "kernelspec": {
   "display_name": "R",
   "language": "R",
   "name": "ir"
  },
  "language_info": {
   "codemirror_mode": "r",
   "file_extension": ".r",
   "mimetype": "text/x-r-source",
   "name": "R",
   "pygments_lexer": "r",
   "version": "4.1.0"
  }
 },
 "nbformat": 4,
 "nbformat_minor": 5
}
