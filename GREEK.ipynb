{
 "cells": [
  {
   "cell_type": "markdown",
   "id": "a63d3dcd",
   "metadata": {},
   "source": [
    "# Greek Letters\n",
    "***"
   ]
  },
  {
   "cell_type": "markdown",
   "id": "952788b0",
   "metadata": {},
   "source": [
    "|No|Huruf Kecil|LaTEX|Huruf Besar|LaTEX|Baca|\n",
    "|:-:|:-:|:-:|:--|:-:|:-:|\n",
    "|1|$\\alpha$|$A$|Alpha|\n",
    "|2|$\\beta$|$B$|Beta|\n",
    "|3|$\\gamma$|$\\Gamma$|Gamma|\n",
    "|4|$\\delta$|$\\Delta$|Delta|\n",
    "|5|$\\epsilon$, $\\varepsilon$|$E$|Epsilon|\n",
    "|6|$\\zeta$|$Z$|Zeta|\n",
    "|7|$\\theta, \\vartheta$|$\\Theta$|Theta|\n",
    "|8|$\\iota$|$I$|Iota|\n",
    "|9|$\\kappa$|$K$|Iota|\n",
    "|10|$\\lambda$|$\\Lambda$|Iota|\n",
    "|11|$\\nu$|$N$|Nu|\n",
    "|12|$\\mu$|$M$|Mu|\n",
    "|13|$\\xi$|$\\Xi$|Xi|\n",
    "|14|$\\omicron$|$O$|Omicron|\n",
    "|15|$\\pi, \\varphi$|$\\Pi$|Pi|\n",
    "|16|$\\rho$|$P$|Rho|\n",
    "|17|$\\tau$|$T$|Tau|\n",
    "|18|$\\upsilon$|$\\Upsilon$|Upsilon|\n",
    "|19|$\\phi$|$\\Phi$|Phi|\n",
    "|20|$\\chi$|$X$|Chi|\n",
    "|21|$\\psi$|$\\Psi$|Psi|\n",
    "|22|$\\omega$|$\\Omega$|Omega|"
   ]
  }
 ],
 "metadata": {
  "kernelspec": {
   "display_name": "R",
   "language": "R",
   "name": "ir"
  },
  "language_info": {
   "codemirror_mode": "r",
   "file_extension": ".r",
   "mimetype": "text/x-r-source",
   "name": "R",
   "pygments_lexer": "r",
   "version": "4.1.0"
  }
 },
 "nbformat": 4,
 "nbformat_minor": 5
}
